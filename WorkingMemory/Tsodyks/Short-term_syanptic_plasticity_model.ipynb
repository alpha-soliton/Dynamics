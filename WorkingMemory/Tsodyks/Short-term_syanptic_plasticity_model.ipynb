{
 "cells": [
  {
   "cell_type": "code",
   "execution_count": 2,
   "metadata": {},
   "outputs": [],
   "source": [
    "import numpy as np\n",
    "import matplotlib.pyplot as plt"
   ]
  },
  {
   "cell_type": "code",
   "execution_count": 46,
   "metadata": {},
   "outputs": [],
   "source": [
    "def delta(t, t_sp):\n",
    "    if t in t_sp:\n",
    "        return 1\n",
    "    else:\n",
    "        return 0\n",
    "\n",
    "def recover_state(x_t, u_t, t_d, t_f, U, dt, t):\n",
    "    dx = (1 - x_t) / t_d - u_t * x_t * delta(t, t_sp) *(1/dt)\n",
    "    du = (U - u_t) / t_f + U * (1 - u_t) * delta(t,t_sp) * (1/dt)\n",
    "    \n",
    "    x_t_ = x_t + dx * dt\n",
    "    u_t_ = u_t + du * dt\n",
    "    \n",
    "    return x_t_, u_t_"
   ]
  },
  {
   "cell_type": "code",
   "execution_count": 53,
   "metadata": {},
   "outputs": [],
   "source": [
    "x = 1.\n",
    "u = 0.2\n",
    "\n",
    "#mili second\n",
    "t_d = 200\n",
    "t_f = 1500\n",
    "\n",
    "U = 0.2\n",
    "\n",
    "dt = 0.01\n",
    "\n",
    "T = 500 * (1/dt)\n",
    "intT = int(T)\n",
    "\n",
    "time = np.zeros(intT)\n",
    "\n",
    "x_t = np.zeros(intT)\n",
    "u_t = np.zeros(intT)\n",
    "t_sp_forplot = np.zeros(intT)\n",
    "\n",
    "\n",
    "x_t[0] = x\n",
    "u_t[0] = u\n",
    "\n",
    "t_sp = [10,30,50,70,90,110,130,150,170,190,210,400]\n",
    "\n",
    "for i in range(intT - 1):\n",
    "    time[i+1] = i * dt\n",
    "    x_t[i+1], u_t[i+1] = recover_state(x_t[i], u_t[i], t_d, t_f, U, dt, i * dt)\n",
    "    if delta(i*dt, t_sp):\n",
    "        t_sp_forplot[i] = 0.01"
   ]
  },
  {
   "cell_type": "code",
   "execution_count": 58,
   "metadata": {},
   "outputs": [
    {
     "name": "stdout",
     "output_type": "stream",
     "text": [
      "[1.         1.         1.         ... 0.46100116 0.46102811 0.46105506]\n",
      "[0.2        0.2        0.2        ... 0.81348535 0.81348126 0.81347717]\n"
     ]
    },
    {
     "data": {
      "text/plain": [
       "<matplotlib.legend.Legend at 0x1238863c8>"
      ]
     },
     "execution_count": 58,
     "metadata": {},
     "output_type": "execute_result"
    },
    {
     "data": {
      "image/png": "[encoded data removed]",
      "text/plain": [
       "<Figure size 432x288 with 1 Axes>"
      ]
     },
     "metadata": {},
     "output_type": "display_data"
    }
   ],
   "source": [
    "print(x_t)\n",
    "print(u_t)\n",
    "plt.plot(time, x_t, label=\"x\")\n",
    "plt.plot(time, u_t, label=\"u\")\n",
    "plt.plot(time, t_sp_forplot, label = \"t_sp\")\n",
    "plt.legend(loc=\"lower right\")"
   ]
  },
  {
   "cell_type": "code",
   "execution_count": null,
   "metadata": {},
   "outputs": [],
   "source": []
  }
 ],
 "metadata": {
  "kernelspec": {
   "display_name": "Python 3",
   "language": "python",
   "name": "python3"
  },
  "language_info": {
   "codemirror_mode": {
    "name": "ipython",
    "version": 3
   },
   "file_extension": ".py",
   "mimetype": "text/x-python",
   "name": "python",
   "nbconvert_exporter": "python",
   "pygments_lexer": "ipython3",
   "version": "3.6.5"
  }
 },
 "nbformat": 4,
 "nbformat_minor": 2
}
