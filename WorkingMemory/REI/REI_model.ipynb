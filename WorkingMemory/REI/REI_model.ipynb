{
 "cells": [
  {
   "cell_type": "code",
   "execution_count": 1,
   "metadata": {},
   "outputs": [],
   "source": [
    "import numpy as np\n",
    "import matplotlib.pyplot as plt"
   ]
  },
  {
   "cell_type": "code",
   "execution_count": 4,
   "metadata": {},
   "outputs": [],
   "source": [
    "def delta(t, t_sp):\n",
    "    if t in t_sp:\n",
    "        return 1\n",
    "    else:\n",
    "        return 0\n",
    "\n",
    "def REI_model(r_t, e_t, i_t, u_t, t_rec, t_ina, t_fac, U, dt, t):\n",
    "    du = - u_t / t_fac + U * (1 - u_t) * delta(t, t_sp)\n",
    "    u_t = u_t + du * dt\n",
    "    \n",
    "    dr = i_t / t_rec - u_t * r_t * delta(t, t_sp) *(1/dt)\n",
    "    de = - e_t / t_ina + u_t * r_t * delta(t,t_sp) * (1/dt)\n",
    "    di =  e_t / t_ina - i_t / t_rec\n",
    "    \n",
    "    r_t_ = r_t + dr * dt\n",
    "    e_t_ = u_t + du * dt\n",
    "    i_t_ = i_t + di * dt\n",
    "    \n",
    "    return r_t_, e_t_, i_t_, u_t"
   ]
  },
  {
   "cell_type": "code",
   "execution_count": 5,
   "metadata": {},
   "outputs": [],
   "source": [
    "r = 1.\n",
    "e = 0\n",
    "i = 0\n",
    "u = 0.2\n",
    "\n",
    "#mili second\n",
    "t_rec = 200\n",
    "t_ina = 2\n",
    "t_fac = 10\n",
    "\n",
    "U = 0.2\n",
    "A_se = 10\n",
    "\n",
    "dt = 0.01\n",
    "\n",
    "T = 300 * (1/dt)\n",
    "intT = int(T)\n",
    "\n",
    "time = np.zeros(intT)\n",
    "\n",
    "r_t = np.zeros(intT)\n",
    "e_t = np.zeros(intT)\n",
    "i_t = np.zeros(intT)\n",
    "V_t = np.zeros(intT)\n",
    "\n",
    "u_t = np.zeros(intT)\n",
    "t_sp_forplot = np.zeros(intT)\n",
    "\n",
    "\n",
    "r_t[0] = r\n",
    "e_t[0] = e\n",
    "i_t[0] = i\n",
    "V_t[0] = A_se * e\n",
    "u_t[0] = u\n",
    "\n",
    "t_sp = [10,30,50,70,90,110,130,150,170,190,210,230,250,270,290]\n",
    "\n",
    "for i in range(intT - 1):\n",
    "    time[i+1] = i * dt\n",
    "    r_t[i+1], e_t[i+1], i_t[i+1], u_t[i+1] = REI_model(r_t[i], e_t[i], i_t[i], u_t[i], t_rec, t_ina, t_fac, U, dt, i * dt)\n",
    "    V_t[i+1] = e_t[i+1] * A_se\n",
    "    if delta(i*dt, t_sp):\n",
    "        t_sp_forplot[i] = 0.01"
   ]
  },
  {
   "cell_type": "code",
   "execution_count": 21,
   "metadata": {},
   "outputs": [
    {
     "name": "stdout",
     "output_type": "stream",
     "text": [
      "[1.         1.         1.         ... 1.69744405 1.69745962 1.69747519]\n",
      "[0.2        0.1998     0.1996002  ... 0.0008535  0.00085265 0.0008518 ]\n"
     ]
    },
    {
     "data": {
      "text/plain": [
       "<matplotlib.legend.Legend at 0x111fe0898>"
      ]
     },
     "execution_count": 21,
     "metadata": {},
     "output_type": "execute_result"
    },
    {
     "data": {
      "image/png": "[encoded data removed]",
      "text/plain": [
       "<Figure size 432x288 with 1 Axes>"
      ]
     },
     "metadata": {},
     "output_type": "display_data"
    }
   ],
   "source": [
    "print(r_t)\n",
    "print(u_t)\n",
    "plt.plot(time, r_t, label=\"r\")\n",
    "plt.plot(time, e_t, label=\"e\")\n",
    "plt.plot(time, i_t, label=\"i\")\n",
    "plt.plot(time, u_t, label=\"u\")\n",
    "plt.plot(time, V_t, label=\"V\")\n",
    "plt.legend(loc=\"lower right\")"
   ]
  },
  {
   "cell_type": "code",
   "execution_count": 19,
   "metadata": {},
   "outputs": [],
   "source": []
  }
 ],
 "metadata": {
  "kernelspec": {
   "display_name": "Python 3",
   "language": "python",
   "name": "python3"
  },
  "language_info": {
   "codemirror_mode": {
    "name": "ipython",
    "version": 3
   },
   "file_extension": ".py",
   "mimetype": "text/x-python",
   "name": "python",
   "nbconvert_exporter": "python",
   "pygments_lexer": "ipython3",
   "version": "3.6.5"
  }
 },
 "nbformat": 4,
 "nbformat_minor": 2
}
