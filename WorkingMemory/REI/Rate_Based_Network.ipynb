{
 "cells": [
  {
   "cell_type": "code",
   "execution_count": 1,
   "metadata": {},
   "outputs": [],
   "source": [
    "import numpy as np\n",
    "import matplotlib.pyplot as plt\n",
    "import math"
   ]
  },
  {
   "cell_type": "code",
   "execution_count": 24,
   "metadata": {},
   "outputs": [],
   "source": [
    "def saturation_function(z, theta):\n",
    "    if z <= 0:\n",
    "        return 0\n",
    "    elif z <= theta:\n",
    "        return z\n",
    "    else:\n",
    "        return theta\n",
    "\n",
    "def rate_based_network_i(i_th_neuron, E_t, x_t, sum_Ej_xj, e_i, t_ref, t_rec, tau, J, N, U, dt, t):\n",
    "    dE_i = (- E_t[i_th_neuron, t] + (1 - t_ref * E_t[i_th_neuron, t]) * saturation_function((J * sum_Ej_xj / N + e_i[i_th_neuron]), theta)) / tau\n",
    "    dx = (1 - x_t[i_th_neuron, t]) / t_rec - U * x_t[i_th_neuron, t] * E_t[i_th_neuron, t]\n",
    "    \n",
    "    E_t_ = E_t[i_th_neuron, t] + dE_i * dt\n",
    "    x_t_ = x_t[i_th_neuron, t] + dx * dt\n",
    "    \n",
    "    return E_t_, x_t_\n",
    "\n",
    "N = 100\n",
    "# Hz\n",
    "E = 0\n",
    "x = 1.\n",
    "\n",
    "#second\n",
    "tau = 0.001\n",
    "t_ref = 0.003\n",
    "t_rec = 0.8\n",
    "\n",
    "# Hz\n",
    "e_1 = -10\n",
    "e_N = 10\n",
    "theta = 300\n",
    "\n",
    "J = 4.4\n",
    "U =0.5\n",
    "\n",
    "dt = 0.0001\n",
    "\n",
    "T = 10 * (1/dt)\n",
    "intT = int(T)\n",
    "\n",
    "time = np.zeros(intT)\n",
    "\n",
    "E_t = np.zeros((N, intT))\n",
    "x_t = np.zeros((N, intT))\n",
    "mean_network_activity = np.zeros(intT)\n",
    "\n",
    "# external inputs of the units\n",
    "e_i = np.zeros(N)\n",
    "e_i[0] = e_1\n",
    "e_i[N-1] = e_N\n",
    "for i in range(N):\n",
    "    e_i[i] = e_1 + (e_N - e_1)/N * i\n",
    "\n",
    "E_t[:, 0] = E\n",
    "x_t[:, 0] = x\n",
    "\n",
    "for t in range(intT - 1):\n",
    "    time[t+1] = t * dt\n",
    "    sum_Ej_xj = 0.\n",
    "    sum_Ei = 0\n",
    "    for j in range(N):\n",
    "        sum_Ej_xj += E_t[j, t] * x_t[j, t]\n",
    "        sum_Ei += E_t[j, t]\n",
    "    mean_network_activity[t] = sum_Ei / N\n",
    "    for i in range(N):\n",
    "        E_t[i, t+1], x_t[i, t+1] = rate_based_network_i(i, E_t, x_t, sum_Ej_xj, e_i, t_ref, t_rec, tau, J, N, U, dt, t)"
   ]
  },
  {
   "cell_type": "code",
   "execution_count": 25,
   "metadata": {},
   "outputs": [
    {
     "data": {
      "text/plain": [
       "Text(0.5,0,'Time [sec]')"
      ]
     },
     "execution_count": 25,
     "metadata": {},
     "output_type": "execute_result"
    },
    {
     "data": {
      "image/png": "[encoded data removed]",
      "text/plain": [
       "<Figure size 432x288 with 1 Axes>"
      ]
     },
     "metadata": {},
     "output_type": "display_data"
    }
   ],
   "source": [
    "plt.plot(time, mean_network_activity, label = \"mean\")\n",
    "#plt.plot(time, E_t[1, :], label = \"E_1\")\n",
    "plt.ylabel(\"Mean network activity [Hz]\")\n",
    "plt.xlabel(\"Time [sec]\")\n",
    "#plt.legend(loc=\"lower right\")"
   ]
  },
  {
   "cell_type": "code",
   "execution_count": null,
   "metadata": {},
   "outputs": [],
   "source": []
  }
 ],
 "metadata": {
  "kernelspec": {
   "display_name": "Python 3",
   "language": "python",
   "name": "python3"
  },
  "language_info": {
   "codemirror_mode": {
    "name": "ipython",
    "version": 3
   },
   "file_extension": ".py",
   "mimetype": "text/x-python",
   "name": "python",
   "nbconvert_exporter": "python",
   "pygments_lexer": "ipython3",
   "version": "3.6.5"
  }
 },
 "nbformat": 4,
 "nbformat_minor": 2
}
