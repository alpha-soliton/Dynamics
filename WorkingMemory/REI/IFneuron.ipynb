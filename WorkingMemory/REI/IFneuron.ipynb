{
 "cells": [
  {
   "cell_type": "code",
   "execution_count": 1,
   "metadata": {},
   "outputs": [],
   "source": [
    "import numpy as np\n",
    "import matplotlib.pyplot as plt"
   ]
  },
  {
   "cell_type": "code",
   "execution_count": 2,
   "metadata": {},
   "outputs": [],
   "source": [
    "def IF_neuron(v_t, t_mem, R_mem, I_syn, I_ext, dt):\n",
    "    dv = (- v_t + R_mem * (I_syn + I_ext)) / t_mem\n",
    "    v_t_ = v_t + dv * dt\n",
    "    if v_t_ >= 15.:\n",
    "        v_t_ = 13.5\n",
    "        print(\"neuron fired !\")\n",
    "    \n",
    "    return v_t_"
   ]
  },
  {
   "cell_type": "code",
   "execution_count": 24,
   "metadata": {},
   "outputs": [
    {
     "name": "stdout",
     "output_type": "stream",
     "text": [
      "neuron fired !\n",
      "neuron fired !\n",
      "neuron fired !\n",
      "neuron fired !\n",
      "neuron fired !\n",
      "neuron fired !\n",
      "neuron fired !\n",
      "neuron fired !\n",
      "neuron fired !\n",
      "neuron fired !\n",
      "neuron fired !\n",
      "neuron fired !\n",
      "neuron fired !\n",
      "neuron fired !\n",
      "neuron fired !\n",
      "neuron fired !\n",
      "neuron fired !\n",
      "neuron fired !\n",
      "neuron fired !\n",
      "neuron fired !\n",
      "neuron fired !\n",
      "neuron fired !\n",
      "neuron fired !\n",
      "neuron fired !\n",
      "neuron fired !\n",
      "neuron fired !\n",
      "neuron fired !\n",
      "neuron fired !\n",
      "neuron fired !\n",
      "neuron fired !\n",
      "neuron fired !\n",
      "neuron fired !\n",
      "neuron fired !\n",
      "neuron fired !\n",
      "neuron fired !\n",
      "neuron fired !\n",
      "neuron fired !\n",
      "neuron fired !\n",
      "neuron fired !\n",
      "neuron fired !\n",
      "neuron fired !\n",
      "neuron fired !\n",
      "neuron fired !\n",
      "neuron fired !\n",
      "neuron fired !\n",
      "neuron fired !\n",
      "neuron fired !\n",
      "neuron fired !\n",
      "neuron fired !\n",
      "neuron fired !\n",
      "neuron fired !\n",
      "neuron fired !\n",
      "neuron fired !\n",
      "neuron fired !\n",
      "neuron fired !\n"
     ]
    }
   ],
   "source": [
    "R_mem = np.random.uniform(high = 0.7, low = 0.2, size =1)\n",
    "\n",
    "I_ext = np.random.normal(loc = 15 - 0.05, scale = 15 + 0.05, size = 1)\n",
    "\n",
    "t_mem = 10\n",
    "\n",
    "dt = 0.01\n",
    "\n",
    "T = 300 * (1/dt)\n",
    "intT = int(T)\n",
    "\n",
    "time = np.zeros(intT)\n",
    "\n",
    "v_t = np.zeros(intT)\n",
    "I_syn = np.zeros(intT)\n",
    "\n",
    "v_t[0] = 14.\n",
    "\n",
    "for i in range(intT - 1):\n",
    "    time[i+1] = i * dt\n",
    "    # this is temporal value\n",
    "    I_syn[i] = 15.9\n",
    "    if i +1 % 100 == 0:\n",
    "        I_ext = np.random.normal(loc = 15 + 0.05, scale = 15 - 0.05, size = 1)\n",
    "    v_t[i+1] = IF_neuron(v_t[i], t_mem, R_mem, I_syn[i], I_ext, dt)"
   ]
  },
  {
   "cell_type": "code",
   "execution_count": 25,
   "metadata": {},
   "outputs": [
    {
     "name": "stdout",
     "output_type": "stream",
     "text": [
      "[14.         14.00306176 14.00612045 ... 13.71757396 13.72091815\n",
      " 13.72425899]\n"
     ]
    },
    {
     "data": {
      "text/plain": [
       "<matplotlib.legend.Legend at 0x11349d630>"
      ]
     },
     "execution_count": 25,
     "metadata": {},
     "output_type": "execute_result"
    },
    {
     "data": {
      "image/png": "[encoded data removed]",
      "text/plain": [
       "<Figure size 432x288 with 1 Axes>"
      ]
     },
     "metadata": {},
     "output_type": "display_data"
    }
   ],
   "source": [
    "print(v_t)\n",
    "plt.plot(time, v_t, label=\"v\")\n",
    "#plt.plot(time, I_syn, label=\"I_syn\")\n",
    "plt.legend(loc=\"lower right\")"
   ]
  },
  {
   "cell_type": "code",
   "execution_count": null,
   "metadata": {},
   "outputs": [],
   "source": []
  }
 ],
 "metadata": {
  "kernelspec": {
   "display_name": "Python 3",
   "language": "python",
   "name": "python3"
  },
  "language_info": {
   "codemirror_mode": {
    "name": "ipython",
    "version": 3
   },
   "file_extension": ".py",
   "mimetype": "text/x-python",
   "name": "python",
   "nbconvert_exporter": "python",
   "pygments_lexer": "ipython3",
   "version": "3.6.5"
  }
 },
 "nbformat": 4,
 "nbformat_minor": 2
}
