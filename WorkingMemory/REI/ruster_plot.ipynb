{
 "cells": [
  {
   "cell_type": "code",
   "execution_count": 1,
   "metadata": {},
   "outputs": [],
   "source": [
    "import numpy as np\n",
    "import matplotlib.pyplot as plt\n",
    "\n",
    "\n",
    "def raster(event_times_list, **kwargs):\n",
    "    \"\"\"\n",
    "    Creates a raster plot\n",
    "    Parameters\n",
    "    ----------\n",
    "    event_times_list : iterable\n",
    "                       a list of event time iterables\n",
    "    color : string\n",
    "            color of vlines\n",
    "    Returns\n",
    "    -------\n",
    "    ax : an axis containing the raster plot\n",
    "    \"\"\"\n",
    "    ax = plt.gca()\n",
    "    for ith, trial in enumerate(event_times_list):\n",
    "        plt.vlines(trial, ith + .5, ith + 1.5, **kwargs)\n",
    "    plt.ylim(.5, len(event_times_list) + .5)\n",
    "    return ax"
   ]
  },
  {
   "cell_type": "code",
   "execution_count": 2,
   "metadata": {},
   "outputs": [
    {
     "name": "stderr",
     "output_type": "stream",
     "text": [
      "/Users/soliton/.pyenv/versions/anaconda3-4.2.0/envs/dynamicsenv/lib/python3.6/site-packages/matplotlib/figure.py:459: UserWarning: matplotlib is currently using a non-GUI backend, so cannot show the figure\n",
      "  \"matplotlib is currently using a non-GUI backend, \"\n"
     ]
    },
    {
     "data": {
      "image/png": "[encoded data removed]",
      "text/plain": [
       "<Figure size 432x288 with 1 Axes>"
      ]
     },
     "metadata": {},
     "output_type": "display_data"
    }
   ],
   "source": [
    "# example usage\n",
    "# Generate test data\n",
    "nbins = 100\n",
    "ntrials = 10\n",
    "spikes = []\n",
    "\n",
    "for i in range(ntrials):\n",
    "    spikes.append(np.arange(nbins)[np.random.rand(nbins) < .2])\n",
    "\n",
    "fig = plt.figure()\n",
    "ax = raster(spikes)\n",
    "plt.title('Example raster plot')\n",
    "plt.xlabel('time')\n",
    "plt.ylabel('trial')\n",
    "fig.show()"
   ]
  },
  {
   "cell_type": "code",
   "execution_count": 3,
   "metadata": {},
   "outputs": [
    {
     "data": {
      "text/plain": [
       "[array([ 3,  4,  6, 15, 16, 27, 32, 37, 38, 54, 55, 61, 63, 85, 91, 98]),\n",
       " array([ 5,  7,  8, 22, 26, 29, 30, 37, 39, 41, 46, 48, 50, 58, 59, 62, 76,\n",
       "        77, 90, 91, 92, 93, 97]),\n",
       " array([ 1,  5,  9, 23, 41, 44, 47, 57, 72, 73, 74, 75]),\n",
       " array([ 5, 20, 24, 30, 35, 38, 41, 42, 44, 45, 52, 55, 58, 59, 61, 66, 69,\n",
       "        74, 76, 80, 84, 85, 86, 87, 90, 93, 95, 96, 99]),\n",
       " array([ 3,  8, 12, 13, 18, 21, 22, 29, 34, 35, 47, 50, 58, 59, 65, 66, 72,\n",
       "        74, 78, 82, 83, 87, 90, 92, 93, 94]),\n",
       " array([ 2,  5,  8, 11, 14, 22, 28, 33, 40, 52, 55, 57, 60, 62, 64, 72, 80,\n",
       "        82, 86, 89, 97]),\n",
       " array([ 3,  9, 10, 11, 13, 14, 16, 20, 24, 31, 33, 39, 40, 41, 45, 46, 50,\n",
       "        54, 57, 59, 60, 62, 69, 70, 81, 86, 90, 95, 96]),\n",
       " array([12, 13, 14, 26, 33, 37, 38, 41, 42, 45, 57, 59, 61, 62, 67, 69, 79,\n",
       "        83, 87, 90, 91, 92]),\n",
       " array([12, 18, 19, 35, 42, 50, 59, 66, 75, 76, 82]),\n",
       " array([12, 16, 19, 21, 22, 32, 34, 48, 57, 58, 60, 61, 67, 73, 76, 78, 82,\n",
       "        83, 85, 89, 91, 95])]"
      ]
     },
     "execution_count": 3,
     "metadata": {},
     "output_type": "execute_result"
    }
   ],
   "source": [
    "spikes"
   ]
  },
  {
   "cell_type": "code",
   "execution_count": null,
   "metadata": {},
   "outputs": [],
   "source": []
  }
 ],
 "metadata": {
  "kernelspec": {
   "display_name": "Python 3",
   "language": "python",
   "name": "python3"
  },
  "language_info": {
   "codemirror_mode": {
    "name": "ipython",
    "version": 3
   },
   "file_extension": ".py",
   "mimetype": "text/x-python",
   "name": "python",
   "nbconvert_exporter": "python",
   "pygments_lexer": "ipython3",
   "version": "3.6.5"
  }
 },
 "nbformat": 4,
 "nbformat_minor": 2
}
