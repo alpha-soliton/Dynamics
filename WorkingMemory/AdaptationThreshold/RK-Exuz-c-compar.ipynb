{
 "cells": [
  {
   "cell_type": "code",
   "execution_count": 1,
   "metadata": {},
   "outputs": [],
   "source": [
    "import numpy as np\n",
    "import matplotlib.pyplot as plt\n",
    "import math\n",
    "\n",
    "from matplotlib.colors import BoundaryNorm\n",
    "from matplotlib.ticker import MaxNLocator\n",
    "from matplotlib import cm\n",
    "from mpl_toolkits.mplot3d import Axes3D\n",
    "from matplotlib.backends.backend_pdf import PdfPages\n",
    "\n",
    "import os\n",
    "import random\n",
    "import gc\n",
    "import h5py"
   ]
  },
  {
   "cell_type": "code",
   "execution_count": 2,
   "metadata": {},
   "outputs": [
    {
     "name": "stdout",
     "output_type": "stream",
     "text": [
      "2019/01/19 00:21:34\n"
     ]
    }
   ],
   "source": [
    "from datetime import datetime\n",
    "print(datetime.now().strftime(\"%Y/%m/%d %H:%M:%S\"))"
   ]
  },
  {
   "cell_type": "code",
   "execution_count": 3,
   "metadata": {},
   "outputs": [],
   "source": [
    "class RK_Exuz:\n",
    "    def __init__(self, J, alpha, tau, E_0_default, t_fac, t_d, t_th, thre_effi, U, dt):\n",
    "        self.J = J\n",
    "        self.alpha = alpha\n",
    "        self.tau = tau\n",
    "        self.E_0_default = E_0_default\n",
    "        self.t_fac = t_fac\n",
    "        self.t_d = t_d\n",
    "        self.t_th = t_th\n",
    "        self.thre_effi = thre_effi\n",
    "        self.U = U\n",
    "        self.dt = dt\n",
    "        self.time = np.zeros(int(memory_reset_timing*(1/dt)), dtype = np.float64)\n",
    "        self.E_t = np.zeros(int(memory_reset_timing*(1/dt)), dtype = np.float64)\n",
    "        self.u_t = np.zeros(int(memory_reset_timing*(1/dt)), dtype = np.float64)\n",
    "        self.x_t = np.zeros(int(memory_reset_timing*(1/dt)), dtype = np.float64)\n",
    "        self.z_t = np.zeros(int(memory_reset_timing*(1/dt)), dtype = np.float64)\n",
    "        \n",
    "    def gain_function_(self, z):\n",
    "        return self.alpha * math.log(1 + math.exp(z/self.alpha))\n",
    "\n",
    "    def f_E(self, E_t, x_t, u_t, z_t):\n",
    "        return (-E_t + self.gain_function_(self.J * u_t * x_t * E_t + self.E_0_default - self.thre_effi * z_t))/self.tau\n",
    "\n",
    "    def f_x(self, E_t, x_t, u_t, z_t):\n",
    "        return (1 - x_t)/self.t_d - u_t * x_t * E_t\n",
    "\n",
    "    def f_u(self, E_t, x_t, u_t, z_t):\n",
    "        return (self.U - u_t)/self.t_fac + self.U * (1 - u_t) * E_t\n",
    "\n",
    "    def f_z(self, E_t, x_t, u_t, z_t):\n",
    "        return (E_t - z_t)/self.t_th\n",
    "\n",
    "    def RK4(self, E_t, x_t, u_t, z_t, dt, time_index_in_reset):\n",
    "        # compute k1\n",
    "        k1_E = self.f_E(E_t, x_t, u_t, z_t)\n",
    "        k1_x = self.f_x(E_t, x_t, u_t, z_t)\n",
    "        k1_u = self.f_u(E_t, x_t, u_t, z_t)\n",
    "        k1_z = self.f_z(E_t, x_t, u_t, z_t)\n",
    "        # compute k2\n",
    "        k2_E = self.f_E(E_t+k1_E*dt/2, x_t+k1_x*dt/2, u_t+k1_u*dt/2, z_t+k1_z*dt/2)\n",
    "        k2_x = self.f_x(E_t+k1_E*dt/2, x_t+k1_x*dt/2, u_t+k1_u*dt/2, z_t+k1_z*dt/2)\n",
    "        k2_u = self.f_u(E_t+k1_E*dt/2, x_t+k1_x*dt/2, u_t+k1_u*dt/2, z_t+k1_z*dt/2)\n",
    "        k2_z = self.f_z(E_t+k1_E*dt/2, x_t+k1_x*dt/2, u_t+k1_u*dt/2, z_t+k1_z*dt/2)\n",
    "        # compute k3\n",
    "        k3_E = self.f_E(E_t+k2_E*dt/2, x_t+k2_x*dt/2, u_t+k2_u*dt/2, z_t+k2_z*dt/2)\n",
    "        k3_x = self.f_x(E_t+k2_E*dt/2, x_t+k2_x*dt/2, u_t+k2_u*dt/2, z_t+k2_z*dt/2)\n",
    "        k3_u = self.f_u(E_t+k2_E*dt/2, x_t+k2_x*dt/2, u_t+k2_u*dt/2, z_t+k2_z*dt/2)\n",
    "        k3_z = self.f_z(E_t+k2_E*dt/2, x_t+k2_x*dt/2, u_t+k2_u*dt/2, z_t+k2_z*dt/2)\n",
    "        # compute k4\n",
    "        k4_E = self.f_E(E_t+k3_E*dt, x_t+k3_x*dt, u_t+k3_u*dt, z_t+k3_z*dt)\n",
    "        k4_x = self.f_x(E_t+k3_E*dt, x_t+k3_x*dt, u_t+k3_u*dt, z_t+k3_z*dt)\n",
    "        k4_u = self.f_u(E_t+k3_E*dt, x_t+k3_x*dt, u_t+k3_u*dt, z_t+k3_z*dt)\n",
    "        k4_z = self.f_z(E_t+k3_E*dt, x_t+k3_x*dt, u_t+k3_u*dt, z_t+k3_z*dt)\n",
    "        # compute y_n+1\n",
    "        return (E_t+(k1_E+2.*k2_E+2.*k3_E+k4_E)*dt/6.), (x_t+(k1_x+2.*k2_x+2.*k3_x+k4_x)*dt/6.), (u_t+(k1_u+2.*k2_u+2.*k3_u+k4_u)*dt/6.), (z_t+(k1_z+2.*k2_z+2.*k3_z+k4_z)*dt/6.)\n",
    "\n",
    "    def init_dynamical_variable_and_time_with_memory_reset(self, T, E_ini, u_ini, x_ini, z_ini, memory_reset_timing):\n",
    "        self.E_t[0] = E_ini\n",
    "        self.u_t[0] = u_ini\n",
    "        self.x_t[0] = x_ini\n",
    "        self.z_t[0] = z_ini\n",
    "    \n",
    "    def start_simulation_with_gc(self, T, memory_reset_timing, data_dir_name='no'):\n",
    "        print(\"starting sinulation\\nsimulation time {}sec\".format(int(T*self.dt)))\n",
    "        print(\"parameters are following\\ntau {} t_fac {} t_d {} t_th {} U {}\".format(self.tau, self.t_fac, self.t_d, self.t_th, self.U))\n",
    "        print(\"J {} alpha {} thre_effi {}\".format(self.J, self.alpha, self.thre_effi))\n",
    "        print(self.E_t[0])\n",
    "        for i in range(int(T) - 1):\n",
    "            time_index_in_reset = i%int(memory_reset_timing*(1/self.dt))\n",
    "            if (time_index_in_reset+1 == int(memory_reset_timing*(1/self.dt))):\n",
    "                if (int((i+1)%10000000)==0):\n",
    "                    self.data_dump_and_reset(True, '{}/{}_{}.h5'.format(data_dir_name, int((i+1)*self.dt) - memory_reset_timing, int((i+1)*self.dt)))\n",
    "                else:\n",
    "                    self.data_dump_and_reset()\n",
    "            else:\n",
    "                self.time[time_index_in_reset+1] = (time_index_in_reset+1) * self.dt\n",
    "                #self.time[time_index_in_reset+1] = (i+1) * self.dt\n",
    "                if time_index_in_reset == 0:\n",
    "                    print(\"resetted i {}\".format(int(i*self.dt)))\n",
    "                self.E_t[time_index_in_reset+1], self.x_t[time_index_in_reset+1], self.u_t[time_index_in_reset+1]\\\n",
    "                , self.z_t[time_index_in_reset+1] = self.RK4(E_t=self.E_t[time_index_in_reset], x_t=self.x_t[time_index_in_reset], u_t=self.u_t[time_index_in_reset], z_t=self.z_t[time_index_in_reset], dt=self.dt, time_index_in_reset=time_index_in_reset)\n",
    "                if int(i%100000) == 0:\n",
    "                    print(\"~{} sec finished. {}\".format(int(i*self.dt), datetime.now().strftime(\"%Y/%m/%d %H:%M:%S\")))\n",
    "        with h5py.File('{}/{}_{}.h5'.format(data_dir_name, 'final', int((i+2)*self.dt))) as f:\n",
    "            f.create_group('sim_data')\n",
    "            f.create_dataset('sim_data/E_t', data = self.E_t)\n",
    "            f.create_dataset('sim_data/x_t', data = self.x_t)\n",
    "            f.create_dataset('sim_data/u_t', data = self.u_t)\n",
    "            f.create_dataset('sim_data/z_t', data = self.z_t)\n",
    "            print(\"time series data dumped.\")\n",
    "        print(\"simulation completed !\")\n",
    "\n",
    "    def data_dump_and_reset(self, dump = False, dump_name='no'):\n",
    "        if dump:\n",
    "            with h5py.File(dump_name) as f:\n",
    "                f.create_group('sim_data')\n",
    "                f.create_dataset('sim_data/E_t', data = self.E_t)\n",
    "                f.create_dataset('sim_data/x_t', data = self.x_t)\n",
    "                f.create_dataset('sim_data/u_t', data = self.u_t)\n",
    "                f.create_dataset('sim_data/z_t', data = self.z_t)\n",
    "            print(\"data dumped.\")\n",
    "        tmp_E_t = np.zeros((1), dtype = np.float64)\n",
    "        tmp_x_t = np.zeros((1), dtype = np.float64)\n",
    "        tmp_u_t = np.zeros((1), dtype = np.float64)\n",
    "        tmp_z_t = np.zeros((1), dtype = np.float64)\n",
    "\n",
    "        tmp_E_t = self.E_t[int(memory_reset_timing*(1/dt))-1]\n",
    "        tmp_x_t = self.x_t[int(memory_reset_timing*(1/dt))-1]\n",
    "        tmp_u_t = self.u_t[int(memory_reset_timing*(1/dt))-1]\n",
    "        tmp_z_t = self.z_t[int(memory_reset_timing*(1/dt))-1]\n",
    "        print(\"tmp Et {}\".format(tmp_E_t))\n",
    "        del self.E_t\n",
    "        del self.x_t\n",
    "        del self.u_t\n",
    "        del self.z_t\n",
    "        gc.collect()\n",
    "        self.E_t = np.zeros(int(memory_reset_timing*(1/dt)), dtype = np.float64)\n",
    "        self.x_t = np.zeros(int(memory_reset_timing*(1/dt)), dtype = np.float64)\n",
    "        self.u_t = np.zeros(int(memory_reset_timing*(1/dt)), dtype = np.float64)\n",
    "        self.z_t = np.zeros(int(memory_reset_timing*(1/dt)), dtype = np.float64)\n",
    "        self.E_t[0] = tmp_E_t\n",
    "        self.x_t[0] = tmp_x_t\n",
    "        self.u_t[0] = tmp_u_t\n",
    "        self.z_t[0] = tmp_z_t\n",
    "        print(\"resetted memory and load last value as init value\")"
   ]
  },
  {
   "cell_type": "code",
   "execution_count": 4,
   "metadata": {},
   "outputs": [],
   "source": [
    "# general param\n",
    "E_ini = 0.\n",
    "u_ini = 1.\n",
    "x_ini = 0.\n",
    "z_ini = 0.\n",
    "\n",
    "dt = 0.0001"
   ]
  },
  {
   "cell_type": "code",
   "execution_count": 44,
   "metadata": {},
   "outputs": [],
   "source": [
    "# param\n",
    "T = 10 * (1/dt)\n",
    "memory_reset_timing = 10\n",
    "\n",
    "# setting parameter\n",
    "tau = 0.13\n",
    "# depressing t_d > t_fac \n",
    "# facilitating t_d < t_fac    ++++   prefrontal cortex (PFC) facilitating excitatory connection\n",
    "t_d = 2\n",
    "t_fac = 15\n",
    "\n",
    "t_th = 0.1\n",
    "thre_effi = 0.32\n",
    "\n",
    "U = 0.3\n",
    "E_0_default = -2.3\n",
    "#E_0_default = -2.625\n",
    "J = 8\n",
    "alpha = 0.985"
   ]
  },
  {
   "cell_type": "code",
   "execution_count": 45,
   "metadata": {},
   "outputs": [],
   "source": [
    "rk_exuz = RK_Exuz(J=J, alpha=alpha, tau=tau, E_0_default=E_0_default, t_fac=t_fac, t_d=t_d, t_th=t_th, thre_effi=thre_effi, U=U, dt=dt)"
   ]
  },
  {
   "cell_type": "code",
   "execution_count": 46,
   "metadata": {},
   "outputs": [],
   "source": [
    "rk_exuz.init_dynamical_variable_and_time_with_memory_reset(T=T, E_ini=E_ini, u_ini=u_ini, x_ini=x_ini, z_ini=z_ini, memory_reset_timing=memory_reset_timing)"
   ]
  },
  {
   "cell_type": "code",
   "execution_count": 47,
   "metadata": {},
   "outputs": [
    {
     "name": "stdout",
     "output_type": "stream",
     "text": [
      "starting sinulation\n",
      "simulation time 10sec\n",
      "parameters are following\n",
      "tau 0.13 t_fac 15 t_d 2 t_th 0.1 U 0.3\n",
      "J 8 alpha 0.985 thre_effi 0.32\n",
      "0.0\n",
      "resetted i 0\n",
      "~0 sec finished. 2019/01/19 04:33:22\n",
      "time series data dumped.\n",
      "simulation completed !\n"
     ]
    }
   ],
   "source": [
    "rk_exuz.start_simulation_with_gc(T, memory_reset_timing, data_dir_name='data_c032')"
   ]
  },
  {
   "cell_type": "code",
   "execution_count": 49,
   "metadata": {},
   "outputs": [
    {
     "data": {
      "text/plain": [
       "<Figure size 432x288 with 0 Axes>"
      ]
     },
     "metadata": {},
     "output_type": "display_data"
    },
    {
     "data": {
      "image/png": "[encoded data removed]",
      "text/plain": [
       "<Figure size 432x288 with 1 Axes>"
      ]
     },
     "metadata": {},
     "output_type": "display_data"
    }
   ],
   "source": [
    "def plot_results_from_data(data_name_0, data_name_1, data_name_2, data_name_3, data_name_4, data_name_5, data_name_6, plot_dpi, start_time, end_time, output_name):\n",
    "    plt.clf()\n",
    "    pp = PdfPages('{}.pdf'.format(output_name))\n",
    "    #fig = plt.figure(figsize = (40, 30), dpi = plot_dpi)\n",
    "    fig = plt.figure()\n",
    "    with h5py.File(data_name_0) as f:\n",
    "        loaded_E_t = np.array(f['sim_data/E_t'])\n",
    "        loaded_x_t = np.array(f['sim_data/x_t'])\n",
    "        loaded_u_t = np.array(f['sim_data/u_t'])\n",
    "        loaded_z_t = np.array(f['sim_data/z_t'])\n",
    "        plt.plot(rk_exuz.time[int(start_time*(1/dt)):int(end_time*(1/dt))], loaded_E_t[int(start_time*(1/dt)):int(end_time*(1/dt))], label=\"E\")\n",
    "        plt.plot(rk_exuz.time[int(start_time*(1/dt)):int(end_time*(1/dt))], loaded_u_t[int(start_time*(1/dt)):int(end_time*(1/dt))], label=\"u\")\n",
    "        plt.plot(rk_exuz.time[int(start_time*(1/dt)):int(end_time*(1/dt))], loaded_x_t[int(start_time*(1/dt)):int(end_time*(1/dt))], label=\"x\")\n",
    "        plt.plot(rk_exuz.time[int(start_time*(1/dt)):int(end_time*(1/dt))], loaded_z_t[int(start_time*(1/dt)):int(end_time*(1/dt))], label=\"z\")\n",
    "        #plt.plot(time, z_t[:,1], label=\"threshold\")\n",
    "        with h5py.File(data_name_1) as g:\n",
    "            loaded_E_t_1 = np.array(g['sim_data/E_t'])\n",
    "            loaded_x_t_1 = np.array(g['sim_data/x_t'])\n",
    "            loaded_u_t_1 = np.array(g['sim_data/u_t'])\n",
    "            loaded_z_t_1 = np.array(g['sim_data/z_t'])\n",
    "            plt.plot(rk_exuz.time[int(start_time*(1/dt)):int(end_time*(1/dt))], loaded_E_t_1[int(start_time*(1/dt)):int(end_time*(1/dt))], label=\"E_c_z_001\")\n",
    "            #plt.plot(rk_exuz.time[int(start_time*(1/dt)):int(end_time*(1/dt))], loaded_u_t_1[int(start_time*(1/dt)):int(end_time*(1/dt))], label=\"u_threcoeff_001\")\n",
    "            #plt.plot(rk_exuz.time[int(start_time*(1/dt)):int(end_time*(1/dt))], loaded_x_t_1[int(start_time*(1/dt)):int(end_time*(1/dt))], label=\"x_threcoeff_001\")\n",
    "            #plt.plot(rk_exuz.time[int(start_time*(1/dt)):int(end_time*(1/dt))], loaded_z_t_1[int(start_time*(1/dt)):int(end_time*(1/dt))], label=\"z_threcoeff_001\")\n",
    "        with h5py.File(data_name_2) as f:\n",
    "            loaded_E_t_2 = np.array(f['sim_data/E_t'])\n",
    "            plt.plot(rk_exuz.time[int(start_time*(1/dt)):int(end_time*(1/dt))], loaded_E_t_2[int(start_time*(1/dt)):int(end_time*(1/dt))], label=\"E_c_z_002\")\n",
    "        with h5py.File(data_name_3) as f:\n",
    "            loaded_E_t_3 = np.array(f['sim_data/E_t'])\n",
    "            plt.plot(rk_exuz.time[int(start_time*(1/dt)):int(end_time*(1/dt))], loaded_E_t_3[int(start_time*(1/dt)):int(end_time*(1/dt))], label=\"E_c_z_004\")\n",
    "        with h5py.File(data_name_4) as f:\n",
    "            loaded_E_t_4 = np.array(f['sim_data/E_t'])\n",
    "            plt.plot(rk_exuz.time[int(start_time*(1/dt)):int(end_time*(1/dt))], loaded_E_t_4[int(start_time*(1/dt)):int(end_time*(1/dt))], label=\"E_c_z_008\")\n",
    "        with h5py.File(data_name_5) as f:\n",
    "            loaded_E_t_5 = np.array(f['sim_data/E_t'])\n",
    "            plt.plot(rk_exuz.time[int(start_time*(1/dt)):int(end_time*(1/dt))], loaded_E_t_5[int(start_time*(1/dt)):int(end_time*(1/dt))], label=\"E_c_z_016\")\n",
    "        with h5py.File(data_name_6) as f:\n",
    "            loaded_E_t_6 = np.array(f['sim_data/E_t'])\n",
    "            plt.plot(rk_exuz.time[int(start_time*(1/dt)):int(end_time*(1/dt))], loaded_E_t_6[int(start_time*(1/dt)):int(end_time*(1/dt))], label=\"E_c_z_032\")\n",
    "    plt.legend(loc=\"upper right\")\n",
    "    plt.xlabel(\"Time\")\n",
    "    plt.show()\n",
    "    pp.savefig(fig)\n",
    "    pp.close()\n",
    "\n",
    "\"\"\"\n",
    "for i in range(int(memory_reset_timing*(1/dt))-1):\n",
    "    rk_exuz.time[i+1] = (i+1) *rk_exuz.dt\n",
    "\"\"\"\n",
    "\n",
    "\n",
    "plot_results_from_data('data_c0/final_10.h5', 'data_c001/final_10.h5', 'data_c002/final_10.h5', 'data_c004/final_10.h5', 'data_c008/final_10.h5', 'data_c016/final_10.h5', 'data_c032/final_10.h5', 300, 3, 10, 'compar_thre_all_3sec_10sec')"
   ]
  },
  {
   "cell_type": "code",
   "execution_count": 51,
   "metadata": {},
   "outputs": [
    {
     "data": {
      "text/plain": [
       "<Figure size 432x288 with 0 Axes>"
      ]
     },
     "metadata": {},
     "output_type": "display_data"
    },
    {
     "data": {
      "image/png": "[encoded data removed]",
      "text/plain": [
       "<Figure size 720x288 with 1 Axes>"
      ]
     },
     "metadata": {},
     "output_type": "display_data"
    }
   ],
   "source": [
    "def plot_results_xu_only_from_data(data_name, data_name_2, plot_dpi, start_time, end_time, output_name):\n",
    "    plt.clf()\n",
    "    pp = PdfPages('{}.pdf'.format(output_name))\n",
    "    #fig = plt.figure(figsize = (40, 30), dpi = plot_dpi)\n",
    "    fig = plt.figure(figsize=(10, 4))\n",
    "    with h5py.File(data_name) as f:\n",
    "        loaded_E_t = np.array(f['sim_data/E_t'])\n",
    "        loaded_x_t = np.array(f['sim_data/x_t'])\n",
    "        loaded_u_t = np.array(f['sim_data/u_t'])\n",
    "        loaded_z_t = np.array(f['sim_data/z_t'])\n",
    "        plt.plot(rk_exuz.time[int(start_time*(1/dt)):int(end_time*(1/dt))], loaded_E_t[int(start_time*(1/dt)):int(end_time*(1/dt))], label=\"E\")\n",
    "        plt.plot(rk_exuz.time[int(start_time*(1/dt)):int(end_time*(1/dt))], loaded_u_t[int(start_time*(1/dt)):int(end_time*(1/dt))], label=\"u\")\n",
    "        plt.plot(rk_exuz.time[int(start_time*(1/dt)):int(end_time*(1/dt))], loaded_x_t[int(start_time*(1/dt)):int(end_time*(1/dt))], label=\"x\")\n",
    "        #plt.plot(rk_exuz.time[int(start_time*(1/dt)):int(end_time*(1/dt))], loaded_z_t[int(start_time*(1/dt)):int(end_time*(1/dt))], label=\"z\")\n",
    "        #plt.plot(time, z_t[:,1], label=\"threshold\")\n",
    "        with h5py.File(data_name_2) as g:\n",
    "            loaded_E_t_2 = np.array(g['sim_data/E_t'])\n",
    "            loaded_x_t_2 = np.array(g['sim_data/x_t'])\n",
    "            loaded_u_t_2 = np.array(g['sim_data/u_t'])\n",
    "            loaded_z_t_2 = np.array(g['sim_data/z_t'])\n",
    "            plt.plot(rk_exuz.time[int(start_time*(1/dt)):int(end_time*(1/dt))], loaded_E_t_2[int(start_time*(1/dt)):int(end_time*(1/dt))], label=\"E_c_z_032\")\n",
    "            plt.plot(rk_exuz.time[int(start_time*(1/dt)):int(end_time*(1/dt))], loaded_u_t_2[int(start_time*(1/dt)):int(end_time*(1/dt))], label=\"u_c_z_032\")\n",
    "            plt.plot(rk_exuz.time[int(start_time*(1/dt)):int(end_time*(1/dt))], loaded_x_t_2[int(start_time*(1/dt)):int(end_time*(1/dt))], label=\"x_c_z_032\")\n",
    "            #plt.plot(rk_exuz.time[int(start_time*(1/dt)):int(end_time*(1/dt))], loaded_z_t_2[int(start_time*(1/dt)):int(end_time*(1/dt))], label=\"z_threcoeff_0\")\n",
    "    plt.legend(loc=\"upper right\")\n",
    "    plt.xlabel(\"Time\")\n",
    "    plt.show()\n",
    "    pp.savefig(fig)\n",
    "    pp.close()\n",
    "\n",
    "\"\"\"\n",
    "for i in range(int(memory_reset_timing*(1/dt))-1):\n",
    "    rk_exuz.time[i+1] = (i+1) *rk_exuz.dt\n",
    "\"\"\"\n",
    "\n",
    "plot_results_xu_only_from_data('data_c0/final_10.h5', 'data_c032/final_10.h5', 300, 3, 10, 'compar_thre_xu')"
   ]
  },
  {
   "cell_type": "code",
   "execution_count": null,
   "metadata": {
    "collapsed": true
   },
   "outputs": [],
   "source": []
  }
 ],
 "metadata": {
  "kernelspec": {
   "display_name": "Python 3",
   "language": "python",
   "name": "python3"
  },
  "language_info": {
   "codemirror_mode": {
    "name": "ipython",
    "version": 3
   },
   "file_extension": ".py",
   "mimetype": "text/x-python",
   "name": "python",
   "nbconvert_exporter": "python",
   "pygments_lexer": "ipython3",
   "version": "3.6.5"
  }
 },
 "nbformat": 4,
 "nbformat_minor": 2
}
